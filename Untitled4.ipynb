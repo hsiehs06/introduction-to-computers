{
  "nbformat": 4,
  "nbformat_minor": 0,
  "metadata": {
    "colab": {
      "provenance": [],
      "authorship_tag": "ABX9TyMFLe+jsl1jJ+oBgDb8tLLe",
      "include_colab_link": true
    },
    "kernelspec": {
      "name": "python3",
      "display_name": "Python 3"
    },
    "language_info": {
      "name": "python"
    }
  },
  "cells": [
    {
      "cell_type": "markdown",
      "metadata": {
        "id": "view-in-github",
        "colab_type": "text"
      },
      "source": [
        "<a href=\"https://colab.research.google.com/github/hsiehs06/introduction-to-computers/blob/main/Untitled4.ipynb\" target=\"_parent\"><img src=\"https://colab.research.google.com/assets/colab-badge.svg\" alt=\"Open In Colab\"/></a>"
      ]
    },
    {
      "cell_type": "code",
      "execution_count": 1,
      "metadata": {
        "colab": {
          "base_uri": "https://localhost:8080/"
        },
        "id": "GDSfW2B_xmcv",
        "outputId": "fa702c1e-608a-407a-d365-0f0e3b051e13"
      },
      "outputs": [
        {
          "output_type": "stream",
          "name": "stdout",
          "text": [
            "peiyu\n"
          ]
        }
      ],
      "source": [
        "print(\"peiyu\")"
      ]
    },
    {
      "cell_type": "code",
      "source": [
        "h=float(input('請輸入你的身高(cm):請輸入你的身高(cm):'))/100\n",
        "w=float(input('請輸入你的體重(kg):'))"
      ],
      "metadata": {
        "colab": {
          "base_uri": "https://localhost:8080/"
        },
        "id": "DXLbsRr1yBBG",
        "outputId": "5b8f2f9b-cb3e-4a21-d1b5-4efff0b4d01a"
      },
      "execution_count": 14,
      "outputs": [
        {
          "name": "stdout",
          "output_type": "stream",
          "text": [
            "請輸入你的身高(cm):請輸入你的身高(cm):162\n",
            "請輸入你的體重(kg):52\n"
          ]
        }
      ]
    },
    {
      "cell_type": "code",
      "source": [
        "print(f'你的BMI數值為你的BMI數值為:{bmi}')"
      ],
      "metadata": {
        "colab": {
          "base_uri": "https://localhost:8080/"
        },
        "id": "U-xCVlaN1Clc",
        "outputId": "e3bb953c-72e9-4450-ae9a-fc78e9173f67"
      },
      "execution_count": 15,
      "outputs": [
        {
          "output_type": "stream",
          "name": "stdout",
          "text": [
            "你的BMI數值為你的BMI數值為:19.814\n"
          ]
        }
      ]
    },
    {
      "cell_type": "code",
      "source": [
        "n=input('請輸入一個整數N:')\n",
        "sum=10\n",
        "for i in range(n);\n",
        "  sum+=i+1\n",
        "  print i\n",
        "print('10到N的整數和:{}'.format(sum))"
      ],
      "metadata": {
        "colab": {
          "base_uri": "https://localhost:8080/",
          "height": 132
        },
        "id": "BQ0sNJnY1SnW",
        "outputId": "1335c8e6-9312-4887-e9e7-1a5054c8b866"
      },
      "execution_count": 19,
      "outputs": [
        {
          "output_type": "error",
          "ename": "SyntaxError",
          "evalue": "ignored",
          "traceback": [
            "\u001b[0;36m  File \u001b[0;32m\"<ipython-input-19-1bc737c2cc14>\"\u001b[0;36m, line \u001b[0;32m3\u001b[0m\n\u001b[0;31m    for i in range(n);\u001b[0m\n\u001b[0m                     ^\u001b[0m\n\u001b[0;31mSyntaxError\u001b[0m\u001b[0;31m:\u001b[0m invalid syntax\n"
          ]
        }
      ]
    }
  ]
}