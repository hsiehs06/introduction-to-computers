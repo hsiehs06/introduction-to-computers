{
  "nbformat": 4,
  "nbformat_minor": 0,
  "metadata": {
    "colab": {
      "provenance": [],
      "authorship_tag": "ABX9TyOT4x3MOqwljT4+ddCWDtLW",
      "include_colab_link": true
    },
    "kernelspec": {
      "name": "python3",
      "display_name": "Python 3"
    },
    "language_info": {
      "name": "python"
    }
  },
  "cells": [
    {
      "cell_type": "markdown",
      "metadata": {
        "id": "view-in-github",
        "colab_type": "text"
      },
      "source": [
        "<a href=\"https://colab.research.google.com/github/hsiehs06/introduction-to-computers/blob/main/Untitled5.ipynb\" target=\"_parent\"><img src=\"https://colab.research.google.com/assets/colab-badge.svg\" alt=\"Open In Colab\"/></a>"
      ]
    },
    {
      "cell_type": "code",
      "execution_count": 1,
      "metadata": {
        "colab": {
          "base_uri": "https://localhost:8080/"
        },
        "id": "DChA8gSsy0lz",
        "outputId": "e9a6955f-82ec-4607-f7bc-4c40c970dc61"
      },
      "outputs": [
        {
          "output_type": "stream",
          "name": "stdout",
          "text": [
            "請輸入分數:40\n",
            "不及格\n"
          ]
        }
      ],
      "source": [
        "score=int(input(\"請輸入分數:\"))\n",
        "if score >=60:\n",
        "  print(\"及格\")\n",
        "else:\n",
        "  print(\"不及格\")"
      ]
    },
    {
      "cell_type": "code",
      "source": [
        "password=int(input(\"請輸入密碼:\"))\n",
        "if password == 1234:\n",
        "  print(\"密碼正確\")"
      ],
      "metadata": {
        "colab": {
          "base_uri": "https://localhost:8080/"
        },
        "id": "Ahvweclm121i",
        "outputId": "56b8ce7c-3533-4199-fd74-78f0e1480acd"
      },
      "execution_count": 2,
      "outputs": [
        {
          "name": "stdout",
          "output_type": "stream",
          "text": [
            "請輸入密碼:1111\n"
          ]
        }
      ]
    },
    {
      "cell_type": "code",
      "source": [
        "password=int(input(\"請輸入密碼:\"))\n",
        "if password == 1234:\n",
        "  print(\"密碼正確\")\n",
        "else:\n",
        "  print(\"密碼不正確\")"
      ],
      "metadata": {
        "colab": {
          "base_uri": "https://localhost:8080/"
        },
        "id": "YKVSWFNu2pp9",
        "outputId": "29bc9785-b5c6-40a3-ecba-172cf90d40f0"
      },
      "execution_count": 4,
      "outputs": [
        {
          "output_type": "stream",
          "name": "stdout",
          "text": [
            "請輸入密碼:1111\n",
            "密碼不正確\n"
          ]
        }
      ]
    },
    {
      "cell_type": "code",
      "source": [
        "rain=str(input(\"今天會下雨嗎?\"))\n",
        "if(rain==\"Y\" or rain==\"y\"):\n",
        "  print(\"出門記得帶傘!\")"
      ],
      "metadata": {
        "colab": {
          "base_uri": "https://localhost:8080/"
        },
        "id": "BjVbXrt73HFS",
        "outputId": "abcaad68-0391-4ed9-b1b2-3f48ed9a12a3"
      },
      "execution_count": 8,
      "outputs": [
        {
          "output_type": "stream",
          "name": "stdout",
          "text": [
            "今天會下雨嗎?y\n",
            "出門記得帶傘!\n"
          ]
        }
      ]
    }
  ]
}