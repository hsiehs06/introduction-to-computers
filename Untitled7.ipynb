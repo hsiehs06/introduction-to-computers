{
  "nbformat": 4,
  "nbformat_minor": 0,
  "metadata": {
    "colab": {
      "provenance": [],
      "authorship_tag": "ABX9TyNj6VRZrhKA0KLeVDqLvs/P",
      "include_colab_link": true
    },
    "kernelspec": {
      "name": "python3",
      "display_name": "Python 3"
    },
    "language_info": {
      "name": "python"
    }
  },
  "cells": [
    {
      "cell_type": "markdown",
      "metadata": {
        "id": "view-in-github",
        "colab_type": "text"
      },
      "source": [
        "<a href=\"https://colab.research.google.com/github/hsiehs06/introduction-to-computers/blob/main/Untitled7.ipynb\" target=\"_parent\"><img src=\"https://colab.research.google.com/assets/colab-badge.svg\" alt=\"Open In Colab\"/></a>"
      ]
    },
    {
      "cell_type": "code",
      "execution_count": 2,
      "metadata": {
        "colab": {
          "base_uri": "https://localhost:8080/"
        },
        "id": "7n3r3-TNy_Vh",
        "outputId": "21ae3753-5d3c-44e7-b8cd-3bb5beaa352b"
      },
      "outputs": [
        {
          "output_type": "stream",
          "name": "stdout",
          "text": [
            "score: 70\n",
            "Grade is: C\n"
          ]
        }
      ],
      "source": [
        "score=int(input(\"score: \"))\n",
        "if score >=90:\n",
        "  print('Grade is: A')\n",
        "elif score >= 80:\n",
        "  print('Grade is: B')\n",
        "elif score >= 70:\n",
        "  print('Grade is: C')\n",
        "elif score >= 60:\n",
        "  print('Grade is: D') "
      ]
    },
    {
      "cell_type": "code",
      "source": [
        "degree=int(input(\"degree: \"))\n",
        "if degree >=37.5:\n",
        "  print('體溫過高!')\n",
        "elif degree >=37:\n",
        "  print('體溫略高!')\n",
        "elif degree >=34:\n",
        "  print('體溫正常!')\n",
        "elif degree <34:\n",
        "  print('體溫異常，請重新量測!')"
      ],
      "metadata": {
        "colab": {
          "base_uri": "https://localhost:8080/"
        },
        "id": "mfIr7fztuobv",
        "outputId": "dbc56fc6-4084-4014-ebf7-d9acdb66d022"
      },
      "execution_count": 1,
      "outputs": [
        {
          "output_type": "stream",
          "name": "stdout",
          "text": [
            "degree: 37\n",
            "體溫略高!\n"
          ]
        }
      ]
    },
    {
      "cell_type": "code",
      "source": [
        "month=int(input(\"請輸入月份:\"))\n",
        "if month >=3 and month <=5:\n",
        "  print('春天!')\n",
        "elif month >=6 and month <=8:\n",
        "  print('夏天!')\n",
        "elif month >=9 and month <=11:\n",
        "  print('秋天!')\n",
        "elif month >=12 and month<=2:\n",
        "  print('冬天!')\n",
        "else:\n",
        "  print('月份不在範圍內!')"
      ],
      "metadata": {
        "colab": {
          "base_uri": "https://localhost:8080/"
        },
        "id": "VEAD8YKBXl60",
        "outputId": "92ae097a-4387-4ead-d35d-2035c79557e6"
      },
      "execution_count": 7,
      "outputs": [
        {
          "output_type": "stream",
          "name": "stdout",
          "text": [
            "請輸入月份:3\n",
            "春天!\n"
          ]
        }
      ]
    },
    {
      "cell_type": "code",
      "source": [
        "revenue=int(input(\"請輸入收入:\"))\n",
        "if revenue >=2000000:\n",
        "  print('稅率為0.3')\n",
        "elif revenue >=1000000:\n",
        "  print('稅率為0.21')\n",
        "elif revenue >=600000:\n",
        "  print('稅率為0.13')\n",
        "elif revenue >=300000:\n",
        "  print('稅率為0.06')"
      ],
      "metadata": {
        "colab": {
          "base_uri": "https://localhost:8080/"
        },
        "id": "dKBStCLKbejA",
        "outputId": "51960264-f993-4ffc-f295-f62f7ea3cc03"
      },
      "execution_count": 9,
      "outputs": [
        {
          "output_type": "stream",
          "name": "stdout",
          "text": [
            "請輸入收入:2500000\n",
            "稅率為0.3\n"
          ]
        }
      ]
    },
    {
      "cell_type": "code",
      "source": [
        "rain=str(input(\"今天會下雨嗎?\"))\n",
        "if(rain==\"Y\" or rain==\"y\"):\n",
        "  print(\"出門記得帶傘!\")"
      ],
      "metadata": {
        "colab": {
          "base_uri": "https://localhost:8080/"
        },
        "id": "uqoOgX-7dgqQ",
        "outputId": "2c85a667-18c2-4eb6-ead5-a34f731dd7e1"
      },
      "execution_count": 10,
      "outputs": [
        {
          "output_type": "stream",
          "name": "stdout",
          "text": [
            "今天會下雨嗎?Y\n",
            "出門記得帶傘!\n"
          ]
        }
      ]
    }
  ]
}